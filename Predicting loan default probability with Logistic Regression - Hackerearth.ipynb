{
 "cells": [
  {
   "cell_type": "markdown",
   "metadata": {},
   "source": [
    "# Hacker Earth Machine Learning Challenge 1\n",
    "#### <font color = blue> Problem Statement </font>\n",
    "\n",
    "The Bank Indessa has not done well in last 3 quarters. Their NPAs (Non Performing Assets) have reached all time high. It is starting to lose confidence of its investors. As a result, it’s stock has fallen by 20% in the previous quarter alone.\n",
    "\n",
    "After careful analysis, it was found that the majority of NPA was contributed by loan defaulters. With the messy data collected over all the years, this bank has decided to use machine learning to figure out a way to find these defaulters and devise a plan to reduce them.\n",
    "\n",
    "This bank uses a pool of investors to sanction their loans. For example: If any customer has applied for a loan of $20000, along with bank, the investors perform a due diligence on the requested loan application. Keep this in mind while understanding data.\n",
    "\n",
    "In this challenge, you will help this bank by predicting the probability that a member will default.\n",
    "\n"
   ]
  },
  {
   "cell_type": "code",
   "execution_count": 39,
   "metadata": {},
   "outputs": [],
   "source": [
    "from datetime import datetime\n",
    "import numpy as np\n",
    "import pandas as pd\n",
    "from sklearn.model_selection import train_test_split\n",
    "from sklearn.linear_model import LogisticRegression\n",
    "from sklearn.metrics import confusion_matrix, roc_auc_score,accuracy_score, classification_report\n",
    "import seaborn as sns\n",
    "import matplotlib.pyplot as plt\n",
    "\n",
    "import warnings\n",
    "\n",
    "warnings.filterwarnings('ignore')"
   ]
  },
  {
   "cell_type": "code",
   "execution_count": 3,
   "metadata": {},
   "outputs": [],
   "source": [
    "dfTrain = pd.read_csv('train_indessa.csv')\n",
    "dfTest = pd.read_csv('test_indessa.csv')\n",
    "# All Available Columns: 'member_id', 'loan_amnt', 'funded_amnt', 'addr_state', 'sub_grade', 'term', 'batch_enrolled', 'desc', 'grade', 'emp_length', 'int_rate', 'pymnt_plan', 'initial_list_status', 'home_ownership', 'annual_inc', 'verification_status', 'purpose', 'dti', 'delinq_2yrs', 'inq_last_6mths', 'mths_since_last_delinq', 'mths_since_last_record', 'open_acc', 'pub_rec', 'revol_bal', 'revol_util', 'total_acc', 'application_type', 'verification_status_joint', 'total_rec_int', 'total_rec_late_fee', 'recoveries', 'collection_recovery_fee', 'collections_12_mths_ex_med', 'mths_since_last_major_derog', 'last_week_pay', 'acc_now_delinq', 'tot_coll_amt', 'tot_cur_bal', 'total_rev_hi_lim', 'loan_status\n",
    "dfTrain = dfTrain[['member_id', 'loan_amnt', 'funded_amnt', 'addr_state', 'funded_amnt_inv', 'sub_grade', 'term', 'emp_length', 'int_rate', 'annual_inc', 'dti', 'delinq_2yrs', 'inq_last_6mths', 'mths_since_last_delinq', 'mths_since_last_record', 'open_acc', 'pub_rec', 'revol_bal', 'revol_util', 'total_acc', 'total_rec_int', 'total_rec_late_fee', 'recoveries', 'collection_recovery_fee', 'collections_12_mths_ex_med', 'mths_since_last_major_derog', 'last_week_pay', 'acc_now_delinq', 'tot_coll_amt', 'tot_cur_bal', 'total_rev_hi_lim', 'loan_status']]\n",
    "dfTest = dfTest[['member_id', 'loan_amnt', 'funded_amnt', 'addr_state', 'funded_amnt_inv', 'sub_grade', 'term', 'emp_length', 'int_rate', 'annual_inc', 'dti', 'delinq_2yrs', 'inq_last_6mths', 'mths_since_last_delinq', 'mths_since_last_record', 'open_acc', 'pub_rec', 'revol_bal', 'revol_util', 'total_acc', 'total_rec_int', 'total_rec_late_fee', 'recoveries', 'collection_recovery_fee', 'collections_12_mths_ex_med', 'mths_since_last_major_derog', 'last_week_pay', 'acc_now_delinq', 'tot_coll_amt', 'tot_cur_bal', 'total_rev_hi_lim']]"
   ]
  },
  {
   "cell_type": "markdown",
   "metadata": {},
   "source": [
    "### Data Preparation"
   ]
  },
  {
   "cell_type": "code",
   "execution_count": 4,
   "metadata": {},
   "outputs": [],
   "source": [
    "\n",
    "dfTrain['term'].replace(to_replace=' months', value='', regex=True, inplace=True)\n",
    "dfTest['term'].replace(to_replace=' months', value='', regex=True, inplace=True)\n",
    "dfTrain['term'] = pd.to_numeric(dfTrain['term'], errors='coerce')\n",
    "dfTest['term'] = pd.to_numeric(dfTest['term'], errors='coerce')\n",
    "\n",
    "\n",
    "dfTrain['emp_length'].replace('n/a', '0', inplace=True)\n",
    "dfTrain['emp_length'].replace(to_replace='\\+ years', value='', regex=True, inplace=True)\n",
    "dfTrain['emp_length'].replace(to_replace=' years', value='', regex=True, inplace=True)\n",
    "dfTrain['emp_length'].replace(to_replace='< 1 year', value='0', regex=True, inplace=True)\n",
    "dfTrain['emp_length'].replace(to_replace=' year', value='', regex=True, inplace=True)\n",
    "dfTest['emp_length'].replace('n/a', '0', inplace=True)\n",
    "dfTest['emp_length'].replace(to_replace='\\+ years', value='', regex=True, inplace=True)\n",
    "dfTest['emp_length'].replace(to_replace=' years', value='', regex=True, inplace=True)\n",
    "dfTest['emp_length'].replace(to_replace='< 1 year', value='0', regex=True, inplace=True)\n",
    "dfTest['emp_length'].replace(to_replace=' year', value='', regex=True, inplace=True)\n",
    "dfTrain['emp_length'] = pd.to_numeric(dfTrain['emp_length'], errors='coerce')\n",
    "dfTest['emp_length'] = pd.to_numeric(dfTest['emp_length'], errors='coerce')\n",
    "\n",
    "\n",
    "dfTrain['last_week_pay'].replace(to_replace='th week', value='', regex=True, inplace=True)\n",
    "dfTest['last_week_pay'].replace(to_replace='th week', value='', regex=True, inplace=True)\n",
    "dfTrain['last_week_pay'].replace(to_replace='NA', value='', regex=True, inplace=True)\n",
    "dfTest['last_week_pay'].replace(to_replace='NA', value='', regex=True, inplace=True)\n",
    "dfTrain['last_week_pay'] = pd.to_numeric(dfTrain['last_week_pay'], errors='coerce')\n",
    "dfTest['last_week_pay'] = pd.to_numeric(dfTest['last_week_pay'], errors='coerce')\n",
    "\n",
    "\n",
    "dfTrain['sub_grade'].replace(to_replace='A', value='0', regex=True, inplace=True)\n",
    "dfTrain['sub_grade'].replace(to_replace='B', value='1', regex=True, inplace=True)\n",
    "dfTrain['sub_grade'].replace(to_replace='C', value='2', regex=True, inplace=True)\n",
    "dfTrain['sub_grade'].replace(to_replace='D', value='3', regex=True, inplace=True)\n",
    "dfTrain['sub_grade'].replace(to_replace='E', value='4', regex=True, inplace=True)\n",
    "dfTrain['sub_grade'].replace(to_replace='F', value='5', regex=True, inplace=True)\n",
    "dfTrain['sub_grade'].replace(to_replace='G', value='6', regex=True, inplace=True)\n",
    "dfTest['sub_grade'].replace(to_replace='A', value='0', regex=True, inplace=True)\n",
    "dfTest['sub_grade'].replace(to_replace='B', value='1', regex=True, inplace=True)\n",
    "dfTest['sub_grade'].replace(to_replace='C', value='2', regex=True, inplace=True)\n",
    "dfTest['sub_grade'].replace(to_replace='D', value='3', regex=True, inplace=True)\n",
    "dfTest['sub_grade'].replace(to_replace='E', value='4', regex=True, inplace=True)\n",
    "dfTest['sub_grade'].replace(to_replace='F', value='5', regex=True, inplace=True)\n",
    "dfTest['sub_grade'].replace(to_replace='G', value='6', regex=True, inplace=True)\n",
    "dfTrain['sub_grade'] = pd.to_numeric(dfTrain['sub_grade'], errors='coerce')\n",
    "dfTest['sub_grade'] = pd.to_numeric(dfTest['sub_grade'], errors='coerce')\n"
   ]
  },
  {
   "cell_type": "code",
   "execution_count": 5,
   "metadata": {},
   "outputs": [],
   "source": [
    "#Missing values imputation\n",
    "\n",
    "cols = ['term', 'loan_amnt', 'funded_amnt', 'last_week_pay', 'int_rate', 'sub_grade', 'annual_inc', 'dti', 'mths_since_last_delinq', 'mths_since_last_record', 'open_acc', 'revol_bal', 'revol_util', 'total_acc', 'total_rec_int', 'mths_since_last_major_derog', 'tot_coll_amt', 'tot_cur_bal', 'total_rev_hi_lim', 'emp_length']\n",
    "for col in cols:\n",
    "    dfTrain[col].fillna(dfTrain[col].median(), inplace=True)\n",
    "    dfTest[col].fillna(dfTest[col].median(), inplace=True)\n",
    "\n",
    "cols = ['acc_now_delinq', 'total_rec_late_fee', 'recoveries', 'collection_recovery_fee', 'collections_12_mths_ex_med']\n",
    "for col in cols:\n",
    "    dfTrain[col].fillna(0, inplace=True)\n",
    "    dfTest[col].fillna(0, inplace=True)\n"
   ]
  },
  {
   "cell_type": "code",
   "execution_count": 6,
   "metadata": {},
   "outputs": [],
   "source": [
    "\n",
    "\n",
    "# Separating the member_id column of test dataframe to help create a csv after predictions\n",
    "test_member_id = pd.DataFrame(dfTest['member_id'])\n",
    "\n",
    "\n",
    "# Creating target variable pandas series from train dataframe, this will be used by cross validation to calculate\n",
    "# the accuracy of the model\n",
    "train_target = pd.DataFrame(dfTrain['loan_status'])\n",
    "\n",
    "\n",
    "# It's good to create a copy of train and test dataframes. this way we can play around different features as we tune the\n",
    "# performance of the classifier with important features\n",
    "selected_cols = ['member_id', 'emp_length', 'loan_amnt', 'funded_amnt', 'funded_amnt_inv', 'sub_grade', 'int_rate', 'annual_inc', 'dti', 'mths_since_last_delinq', 'mths_since_last_record', 'open_acc', 'revol_bal', 'revol_util', 'total_acc', 'total_rec_int', 'total_rec_late_fee', 'mths_since_last_major_derog', 'last_week_pay', 'tot_cur_bal', 'total_rev_hi_lim', 'tot_coll_amt', 'recoveries', 'collection_recovery_fee', 'term', 'acc_now_delinq', 'collections_12_mths_ex_med']\n",
    "finalTrain = dfTrain[selected_cols]\n",
    "finalTest = dfTest[selected_cols]\n",
    "\n",
    "# How big the loan a person has taken with respect to his earnings, annual income to loan amount ratio\n",
    "finalTrain['loan_to_income'] = finalTrain['annual_inc']/finalTrain['funded_amnt_inv']\n",
    "finalTest['loan_to_income'] = finalTest['annual_inc']/finalTest['funded_amnt_inv']\n",
    "\n",
    "\n",
    "# All these attributes indicate that the repayment was not all hunky-dory. All the amounts caclulated are ratios \n",
    "# like, recovery to the loan amount. This column gives a magnitude of how much the repayment has gone off course \n",
    "# in terms of ratios.\n",
    "finalTrain['bad_state'] = finalTrain['acc_now_delinq'] + (finalTrain['total_rec_late_fee']/finalTrain['funded_amnt_inv']) + (finalTrain['recoveries']/finalTrain['funded_amnt_inv']) + (finalTrain['collection_recovery_fee']/finalTrain['funded_amnt_inv']) + (finalTrain['collections_12_mths_ex_med']/finalTrain['funded_amnt_inv'])\n",
    "finalTest['bad_state'] = finalTest['acc_now_delinq'] + (finalTest['total_rec_late_fee']/finalTest['funded_amnt_inv']) + (finalTest['recoveries']/finalTest['funded_amnt_inv']) + (finalTest['collection_recovery_fee']/finalTest['funded_amnt_inv']) + (finalTrain['collections_12_mths_ex_med']/finalTest['funded_amnt_inv'])\n",
    "\n",
    "# For the sake of this model, I have used just a boolean flag if things had gone bad, with this case I didn't see\n",
    "# a benifit of including above computations\n",
    "finalTrain.loc[finalTrain['bad_state'] > 0, 'bad_state'] = 1\n",
    "finalTest.loc[finalTest['bad_state'] > 0, 'bad_state'] = 1\n",
    "\n",
    "\n",
    "# Total number of available/unused 'credit lines'\n",
    "finalTrain['avl_lines'] = finalTrain['total_acc'] - finalTrain['open_acc']\n",
    "finalTest['avl_lines'] = finalTest['total_acc'] - finalTest['open_acc']\n",
    "\n",
    "\n",
    "# Interest paid so far\n",
    "finalTrain['int_paid'] = finalTrain['total_rec_int'] + finalTrain['total_rec_late_fee']\n",
    "finalTest['int_paid'] = finalTest['total_rec_int'] + finalTest['total_rec_late_fee']\n",
    "\n",
    "\n",
    "# Calculating EMIs paid (in terms of percent)\n",
    "finalTrain['emi_paid_progress_perc'] = ((finalTrain['last_week_pay']/(finalTrain['term']/12*52+1))*100)\n",
    "finalTest['emi_paid_progress_perc'] = ((finalTest['last_week_pay']/(finalTest['term']/12*52+1))*100)\n",
    "\n",
    "\n",
    "# Calculating total repayments received so far, in terms of EMI or recoveries after charge off\n",
    "finalTrain['total_repayment_progress'] = ((finalTrain['last_week_pay']/(finalTrain['term']/12*52+1))*100) + ((finalTrain['recoveries']/finalTrain['funded_amnt_inv']) * 100)\n",
    "finalTest['total_repayment_progress'] = ((finalTest['last_week_pay']/(finalTest['term']/12*52+1))*100) + ((finalTest['recoveries']/finalTest['funded_amnt_inv']) * 100)"
   ]
  },
  {
   "cell_type": "code",
   "execution_count": 19,
   "metadata": {},
   "outputs": [
    {
     "data": {
      "text/html": [
       "<div>\n",
       "<style scoped>\n",
       "    .dataframe tbody tr th:only-of-type {\n",
       "        vertical-align: middle;\n",
       "    }\n",
       "\n",
       "    .dataframe tbody tr th {\n",
       "        vertical-align: top;\n",
       "    }\n",
       "\n",
       "    .dataframe thead th {\n",
       "        text-align: right;\n",
       "    }\n",
       "</style>\n",
       "<table border=\"1\" class=\"dataframe\">\n",
       "  <thead>\n",
       "    <tr style=\"text-align: right;\">\n",
       "      <th></th>\n",
       "      <th>member_id</th>\n",
       "      <th>emp_length</th>\n",
       "      <th>loan_amnt</th>\n",
       "      <th>funded_amnt</th>\n",
       "      <th>funded_amnt_inv</th>\n",
       "      <th>sub_grade</th>\n",
       "      <th>int_rate</th>\n",
       "      <th>annual_inc</th>\n",
       "      <th>dti</th>\n",
       "      <th>mths_since_last_delinq</th>\n",
       "      <th>...</th>\n",
       "      <th>collection_recovery_fee</th>\n",
       "      <th>term</th>\n",
       "      <th>acc_now_delinq</th>\n",
       "      <th>collections_12_mths_ex_med</th>\n",
       "      <th>loan_to_income</th>\n",
       "      <th>bad_state</th>\n",
       "      <th>avl_lines</th>\n",
       "      <th>int_paid</th>\n",
       "      <th>emi_paid_progress_perc</th>\n",
       "      <th>total_repayment_progress</th>\n",
       "    </tr>\n",
       "  </thead>\n",
       "  <tbody>\n",
       "    <tr>\n",
       "      <th>0</th>\n",
       "      <td>58189336</td>\n",
       "      <td>9.0</td>\n",
       "      <td>14350</td>\n",
       "      <td>14350</td>\n",
       "      <td>14350.0</td>\n",
       "      <td>43</td>\n",
       "      <td>19.19</td>\n",
       "      <td>28700.0</td>\n",
       "      <td>33.88</td>\n",
       "      <td>50.0</td>\n",
       "      <td>...</td>\n",
       "      <td>0.0</td>\n",
       "      <td>36</td>\n",
       "      <td>0.0</td>\n",
       "      <td>0.0</td>\n",
       "      <td>2.000000</td>\n",
       "      <td>0.0</td>\n",
       "      <td>14.0</td>\n",
       "      <td>1173.84</td>\n",
       "      <td>16.560510</td>\n",
       "      <td>16.560510</td>\n",
       "    </tr>\n",
       "    <tr>\n",
       "      <th>1</th>\n",
       "      <td>70011223</td>\n",
       "      <td>0.0</td>\n",
       "      <td>4800</td>\n",
       "      <td>4800</td>\n",
       "      <td>4800.0</td>\n",
       "      <td>14</td>\n",
       "      <td>10.99</td>\n",
       "      <td>65000.0</td>\n",
       "      <td>3.64</td>\n",
       "      <td>31.0</td>\n",
       "      <td>...</td>\n",
       "      <td>0.0</td>\n",
       "      <td>36</td>\n",
       "      <td>0.0</td>\n",
       "      <td>0.0</td>\n",
       "      <td>13.541667</td>\n",
       "      <td>0.0</td>\n",
       "      <td>7.0</td>\n",
       "      <td>83.95</td>\n",
       "      <td>5.732484</td>\n",
       "      <td>5.732484</td>\n",
       "    </tr>\n",
       "    <tr>\n",
       "      <th>2</th>\n",
       "      <td>70255675</td>\n",
       "      <td>2.0</td>\n",
       "      <td>10000</td>\n",
       "      <td>10000</td>\n",
       "      <td>10000.0</td>\n",
       "      <td>4</td>\n",
       "      <td>7.26</td>\n",
       "      <td>45000.0</td>\n",
       "      <td>18.42</td>\n",
       "      <td>31.0</td>\n",
       "      <td>...</td>\n",
       "      <td>0.0</td>\n",
       "      <td>36</td>\n",
       "      <td>0.0</td>\n",
       "      <td>0.0</td>\n",
       "      <td>4.500000</td>\n",
       "      <td>0.0</td>\n",
       "      <td>14.0</td>\n",
       "      <td>56.47</td>\n",
       "      <td>5.732484</td>\n",
       "      <td>5.732484</td>\n",
       "    </tr>\n",
       "    <tr>\n",
       "      <th>3</th>\n",
       "      <td>1893936</td>\n",
       "      <td>10.0</td>\n",
       "      <td>15000</td>\n",
       "      <td>15000</td>\n",
       "      <td>15000.0</td>\n",
       "      <td>35</td>\n",
       "      <td>19.72</td>\n",
       "      <td>105000.0</td>\n",
       "      <td>14.97</td>\n",
       "      <td>46.0</td>\n",
       "      <td>...</td>\n",
       "      <td>0.0</td>\n",
       "      <td>36</td>\n",
       "      <td>0.0</td>\n",
       "      <td>0.0</td>\n",
       "      <td>7.000000</td>\n",
       "      <td>0.0</td>\n",
       "      <td>11.0</td>\n",
       "      <td>4858.62</td>\n",
       "      <td>85.987261</td>\n",
       "      <td>85.987261</td>\n",
       "    </tr>\n",
       "    <tr>\n",
       "      <th>4</th>\n",
       "      <td>7652106</td>\n",
       "      <td>10.0</td>\n",
       "      <td>16000</td>\n",
       "      <td>16000</td>\n",
       "      <td>16000.0</td>\n",
       "      <td>12</td>\n",
       "      <td>10.64</td>\n",
       "      <td>52000.0</td>\n",
       "      <td>20.16</td>\n",
       "      <td>31.0</td>\n",
       "      <td>...</td>\n",
       "      <td>0.0</td>\n",
       "      <td>36</td>\n",
       "      <td>0.0</td>\n",
       "      <td>0.0</td>\n",
       "      <td>3.250000</td>\n",
       "      <td>0.0</td>\n",
       "      <td>16.0</td>\n",
       "      <td>2296.41</td>\n",
       "      <td>61.146497</td>\n",
       "      <td>61.146497</td>\n",
       "    </tr>\n",
       "  </tbody>\n",
       "</table>\n",
       "<p>5 rows × 33 columns</p>\n",
       "</div>"
      ],
      "text/plain": [
       "   member_id  emp_length  loan_amnt  funded_amnt  funded_amnt_inv  sub_grade  \\\n",
       "0   58189336         9.0      14350        14350          14350.0         43   \n",
       "1   70011223         0.0       4800         4800           4800.0         14   \n",
       "2   70255675         2.0      10000        10000          10000.0          4   \n",
       "3    1893936        10.0      15000        15000          15000.0         35   \n",
       "4    7652106        10.0      16000        16000          16000.0         12   \n",
       "\n",
       "   int_rate  annual_inc    dti  mths_since_last_delinq  ...  \\\n",
       "0     19.19     28700.0  33.88                    50.0  ...   \n",
       "1     10.99     65000.0   3.64                    31.0  ...   \n",
       "2      7.26     45000.0  18.42                    31.0  ...   \n",
       "3     19.72    105000.0  14.97                    46.0  ...   \n",
       "4     10.64     52000.0  20.16                    31.0  ...   \n",
       "\n",
       "   collection_recovery_fee  term  acc_now_delinq  collections_12_mths_ex_med  \\\n",
       "0                      0.0    36             0.0                         0.0   \n",
       "1                      0.0    36             0.0                         0.0   \n",
       "2                      0.0    36             0.0                         0.0   \n",
       "3                      0.0    36             0.0                         0.0   \n",
       "4                      0.0    36             0.0                         0.0   \n",
       "\n",
       "   loan_to_income  bad_state  avl_lines  int_paid  emi_paid_progress_perc  \\\n",
       "0        2.000000        0.0       14.0   1173.84               16.560510   \n",
       "1       13.541667        0.0        7.0     83.95                5.732484   \n",
       "2        4.500000        0.0       14.0     56.47                5.732484   \n",
       "3        7.000000        0.0       11.0   4858.62               85.987261   \n",
       "4        3.250000        0.0       16.0   2296.41               61.146497   \n",
       "\n",
       "   total_repayment_progress  \n",
       "0                 16.560510  \n",
       "1                  5.732484  \n",
       "2                  5.732484  \n",
       "3                 85.987261  \n",
       "4                 61.146497  \n",
       "\n",
       "[5 rows x 33 columns]"
      ]
     },
     "execution_count": 19,
     "metadata": {},
     "output_type": "execute_result"
    }
   ],
   "source": [
    "finalTrain.head()"
   ]
  },
  {
   "cell_type": "code",
   "execution_count": 21,
   "metadata": {},
   "outputs": [
    {
     "data": {
      "text/html": [
       "<div>\n",
       "<style scoped>\n",
       "    .dataframe tbody tr th:only-of-type {\n",
       "        vertical-align: middle;\n",
       "    }\n",
       "\n",
       "    .dataframe tbody tr th {\n",
       "        vertical-align: top;\n",
       "    }\n",
       "\n",
       "    .dataframe thead th {\n",
       "        text-align: right;\n",
       "    }\n",
       "</style>\n",
       "<table border=\"1\" class=\"dataframe\">\n",
       "  <thead>\n",
       "    <tr style=\"text-align: right;\">\n",
       "      <th></th>\n",
       "      <th>loan_status</th>\n",
       "    </tr>\n",
       "  </thead>\n",
       "  <tbody>\n",
       "    <tr>\n",
       "      <th>0</th>\n",
       "      <td>0</td>\n",
       "    </tr>\n",
       "    <tr>\n",
       "      <th>1</th>\n",
       "      <td>0</td>\n",
       "    </tr>\n",
       "    <tr>\n",
       "      <th>2</th>\n",
       "      <td>0</td>\n",
       "    </tr>\n",
       "    <tr>\n",
       "      <th>3</th>\n",
       "      <td>0</td>\n",
       "    </tr>\n",
       "    <tr>\n",
       "      <th>4</th>\n",
       "      <td>0</td>\n",
       "    </tr>\n",
       "  </tbody>\n",
       "</table>\n",
       "</div>"
      ],
      "text/plain": [
       "   loan_status\n",
       "0            0\n",
       "1            0\n",
       "2            0\n",
       "3            0\n",
       "4            0"
      ]
     },
     "execution_count": 21,
     "metadata": {},
     "output_type": "execute_result"
    }
   ],
   "source": [
    "train_target.head()"
   ]
  },
  {
   "cell_type": "code",
   "execution_count": 10,
   "metadata": {},
   "outputs": [],
   "source": [
    "df_train.dropna(inplace=True)"
   ]
  },
  {
   "cell_type": "code",
   "execution_count": 22,
   "metadata": {},
   "outputs": [],
   "source": [
    "X = finalTrain.copy()\n",
    "y = train_target.copy()"
   ]
  },
  {
   "cell_type": "code",
   "execution_count": 24,
   "metadata": {},
   "outputs": [
    {
     "data": {
      "text/plain": [
       "member_id                        0\n",
       "emp_length                       0\n",
       "loan_amnt                        0\n",
       "funded_amnt                      0\n",
       "funded_amnt_inv                  0\n",
       "sub_grade                        0\n",
       "int_rate                         0\n",
       "annual_inc                       0\n",
       "dti                              0\n",
       "mths_since_last_delinq           0\n",
       "mths_since_last_record           0\n",
       "open_acc                         0\n",
       "revol_bal                        0\n",
       "revol_util                       0\n",
       "total_acc                        0\n",
       "total_rec_int                    0\n",
       "total_rec_late_fee               0\n",
       "mths_since_last_major_derog      0\n",
       "last_week_pay                    0\n",
       "tot_cur_bal                      0\n",
       "total_rev_hi_lim                 0\n",
       "tot_coll_amt                     0\n",
       "recoveries                       0\n",
       "collection_recovery_fee          0\n",
       "term                             0\n",
       "acc_now_delinq                   0\n",
       "collections_12_mths_ex_med       0\n",
       "loan_to_income                   0\n",
       "bad_state                      139\n",
       "avl_lines                        0\n",
       "int_paid                         0\n",
       "emi_paid_progress_perc           0\n",
       "total_repayment_progress       113\n",
       "dtype: int64"
      ]
     },
     "execution_count": 24,
     "metadata": {},
     "output_type": "execute_result"
    }
   ],
   "source": [
    "X.isna().sum()"
   ]
  },
  {
   "cell_type": "code",
   "execution_count": 25,
   "metadata": {},
   "outputs": [],
   "source": [
    "# Find and drop rows with null values in X_train\n",
    "X = X.dropna()\n",
    "\n",
    "# Drop corresponding rows from y_train based on the index of the dropped rows in X_train\n",
    "y = y.loc[X.index]\n",
    "\n",
    "# Reset the index of both data frames\n",
    "X = X.reset_index(drop=True)\n",
    "y = y.reset_index(drop=True)"
   ]
  },
  {
   "cell_type": "code",
   "execution_count": 26,
   "metadata": {},
   "outputs": [],
   "source": [
    "X_train, X_test, y_train, y_test = train_test_split(X, y, test_size=0.2, random_state=42)"
   ]
  },
  {
   "cell_type": "code",
   "execution_count": 27,
   "metadata": {},
   "outputs": [
    {
     "data": {
      "text/html": [
       "<style>#sk-container-id-1 {color: black;}#sk-container-id-1 pre{padding: 0;}#sk-container-id-1 div.sk-toggleable {background-color: white;}#sk-container-id-1 label.sk-toggleable__label {cursor: pointer;display: block;width: 100%;margin-bottom: 0;padding: 0.3em;box-sizing: border-box;text-align: center;}#sk-container-id-1 label.sk-toggleable__label-arrow:before {content: \"▸\";float: left;margin-right: 0.25em;color: #696969;}#sk-container-id-1 label.sk-toggleable__label-arrow:hover:before {color: black;}#sk-container-id-1 div.sk-estimator:hover label.sk-toggleable__label-arrow:before {color: black;}#sk-container-id-1 div.sk-toggleable__content {max-height: 0;max-width: 0;overflow: hidden;text-align: left;background-color: #f0f8ff;}#sk-container-id-1 div.sk-toggleable__content pre {margin: 0.2em;color: black;border-radius: 0.25em;background-color: #f0f8ff;}#sk-container-id-1 input.sk-toggleable__control:checked~div.sk-toggleable__content {max-height: 200px;max-width: 100%;overflow: auto;}#sk-container-id-1 input.sk-toggleable__control:checked~label.sk-toggleable__label-arrow:before {content: \"▾\";}#sk-container-id-1 div.sk-estimator input.sk-toggleable__control:checked~label.sk-toggleable__label {background-color: #d4ebff;}#sk-container-id-1 div.sk-label input.sk-toggleable__control:checked~label.sk-toggleable__label {background-color: #d4ebff;}#sk-container-id-1 input.sk-hidden--visually {border: 0;clip: rect(1px 1px 1px 1px);clip: rect(1px, 1px, 1px, 1px);height: 1px;margin: -1px;overflow: hidden;padding: 0;position: absolute;width: 1px;}#sk-container-id-1 div.sk-estimator {font-family: monospace;background-color: #f0f8ff;border: 1px dotted black;border-radius: 0.25em;box-sizing: border-box;margin-bottom: 0.5em;}#sk-container-id-1 div.sk-estimator:hover {background-color: #d4ebff;}#sk-container-id-1 div.sk-parallel-item::after {content: \"\";width: 100%;border-bottom: 1px solid gray;flex-grow: 1;}#sk-container-id-1 div.sk-label:hover label.sk-toggleable__label {background-color: #d4ebff;}#sk-container-id-1 div.sk-serial::before {content: \"\";position: absolute;border-left: 1px solid gray;box-sizing: border-box;top: 0;bottom: 0;left: 50%;z-index: 0;}#sk-container-id-1 div.sk-serial {display: flex;flex-direction: column;align-items: center;background-color: white;padding-right: 0.2em;padding-left: 0.2em;position: relative;}#sk-container-id-1 div.sk-item {position: relative;z-index: 1;}#sk-container-id-1 div.sk-parallel {display: flex;align-items: stretch;justify-content: center;background-color: white;position: relative;}#sk-container-id-1 div.sk-item::before, #sk-container-id-1 div.sk-parallel-item::before {content: \"\";position: absolute;border-left: 1px solid gray;box-sizing: border-box;top: 0;bottom: 0;left: 50%;z-index: -1;}#sk-container-id-1 div.sk-parallel-item {display: flex;flex-direction: column;z-index: 1;position: relative;background-color: white;}#sk-container-id-1 div.sk-parallel-item:first-child::after {align-self: flex-end;width: 50%;}#sk-container-id-1 div.sk-parallel-item:last-child::after {align-self: flex-start;width: 50%;}#sk-container-id-1 div.sk-parallel-item:only-child::after {width: 0;}#sk-container-id-1 div.sk-dashed-wrapped {border: 1px dashed gray;margin: 0 0.4em 0.5em 0.4em;box-sizing: border-box;padding-bottom: 0.4em;background-color: white;}#sk-container-id-1 div.sk-label label {font-family: monospace;font-weight: bold;display: inline-block;line-height: 1.2em;}#sk-container-id-1 div.sk-label-container {text-align: center;}#sk-container-id-1 div.sk-container {/* jupyter's `normalize.less` sets `[hidden] { display: none; }` but bootstrap.min.css set `[hidden] { display: none !important; }` so we also need the `!important` here to be able to override the default hidden behavior on the sphinx rendered scikit-learn.org. See: https://github.com/scikit-learn/scikit-learn/issues/21755 */display: inline-block !important;position: relative;}#sk-container-id-1 div.sk-text-repr-fallback {display: none;}</style><div id=\"sk-container-id-1\" class=\"sk-top-container\"><div class=\"sk-text-repr-fallback\"><pre>LogisticRegression()</pre><b>In a Jupyter environment, please rerun this cell to show the HTML representation or trust the notebook. <br />On GitHub, the HTML representation is unable to render, please try loading this page with nbviewer.org.</b></div><div class=\"sk-container\" hidden><div class=\"sk-item\"><div class=\"sk-estimator sk-toggleable\"><input class=\"sk-toggleable__control sk-hidden--visually\" id=\"sk-estimator-id-1\" type=\"checkbox\" checked><label for=\"sk-estimator-id-1\" class=\"sk-toggleable__label sk-toggleable__label-arrow\">LogisticRegression</label><div class=\"sk-toggleable__content\"><pre>LogisticRegression()</pre></div></div></div></div></div>"
      ],
      "text/plain": [
       "LogisticRegression()"
      ]
     },
     "execution_count": 27,
     "metadata": {},
     "output_type": "execute_result"
    }
   ],
   "source": [
    "model = LogisticRegression()\n",
    "model.fit(X_train, y_train)"
   ]
  },
  {
   "cell_type": "code",
   "execution_count": 28,
   "metadata": {},
   "outputs": [],
   "source": [
    "y_pred = model.predict(X_test)"
   ]
  },
  {
   "cell_type": "code",
   "execution_count": 31,
   "metadata": {},
   "outputs": [
    {
     "data": {
      "text/plain": [
       "array([0, 0, 0, ..., 0, 0, 0], dtype=int64)"
      ]
     },
     "execution_count": 31,
     "metadata": {},
     "output_type": "execute_result"
    }
   ],
   "source": [
    "y_pred"
   ]
  },
  {
   "cell_type": "code",
   "execution_count": 32,
   "metadata": {},
   "outputs": [
    {
     "data": {
      "text/plain": [
       "array([[77542,  3846],\n",
       "       [14584, 10486]], dtype=int64)"
      ]
     },
     "execution_count": 32,
     "metadata": {},
     "output_type": "execute_result"
    }
   ],
   "source": [
    "cf_matrix = confusion_matrix(y_test, y_pred)\n",
    "cf_matrix"
   ]
  },
  {
   "cell_type": "code",
   "execution_count": 35,
   "metadata": {},
   "outputs": [
    {
     "data": {
      "text/plain": [
       "Text(0.5, 23.52222222222222, 'Predicted label')"
      ]
     },
     "execution_count": 35,
     "metadata": {},
     "output_type": "execute_result"
    },
    {
     "data": {
      "image/png": "[encoded data removed]",
      "text/plain": [
       "<Figure size 640x480 with 2 Axes>"
      ]
     },
     "metadata": {},
     "output_type": "display_data"
    }
   ],
   "source": [
    "sns.heatmap(pd.DataFrame(cf_matrix), annot=True, cmap=\"YlGnBu\" ,fmt='g')\n",
    "plt.title('Confusion matrix', y=1.1)\n",
    "plt.ylabel('Actual label')\n",
    "plt.xlabel('Predicted label')"
   ]
  },
  {
   "cell_type": "code",
   "execution_count": 37,
   "metadata": {},
   "outputs": [
    {
     "data": {
      "text/plain": [
       "0.8268800841646471"
      ]
     },
     "execution_count": 37,
     "metadata": {},
     "output_type": "execute_result"
    }
   ],
   "source": [
    "from sklearn.metrics import accuracy_score\n",
    "accuracy_score(y_test,y_pred)\n"
   ]
  },
  {
   "cell_type": "code",
   "execution_count": 40,
   "metadata": {},
   "outputs": [
    {
     "name": "stdout",
     "output_type": "stream",
     "text": [
      "                  precision    recall  f1-score   support\n",
      "\n",
      "will NOT default       0.84      0.95      0.89     81388\n",
      "    will default       0.73      0.42      0.53     25070\n",
      "\n",
      "        accuracy                           0.83    106458\n",
      "       macro avg       0.79      0.69      0.71    106458\n",
      "    weighted avg       0.82      0.83      0.81    106458\n",
      "\n"
     ]
    }
   ],
   "source": [
    "target_names = ['will NOT default', 'will default']\n",
    "print(classification_report(y_test, y_pred,target_names=target_names))"
   ]
  },
  {
   "cell_type": "markdown",
   "metadata": {},
   "source": [
    "#### ACCURACY SCORE for the model is: 0.83"
   ]
  },
  {
   "cell_type": "code",
   "execution_count": null,
   "metadata": {},
   "outputs": [],
   "source": []
  }
 ],
 "metadata": {
  "anaconda-cloud": {},
  "kernelspec": {
   "display_name": "Python 3 (ipykernel)",
   "language": "python",
   "name": "python3"
  },
  "language_info": {
   "codemirror_mode": {
    "name": "ipython",
    "version": 3
   },
   "file_extension": ".py",
   "mimetype": "text/x-python",
   "name": "python",
   "nbconvert_exporter": "python",
   "pygments_lexer": "ipython3",
   "version": "3.11.3"
  }
 },
 "nbformat": 4,
 "nbformat_minor": 2
}
